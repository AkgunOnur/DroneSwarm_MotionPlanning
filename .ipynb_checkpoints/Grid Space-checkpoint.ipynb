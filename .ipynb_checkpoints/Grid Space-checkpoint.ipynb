{
 "cells": [
  {
   "cell_type": "code",
   "execution_count": 2,
   "metadata": {},
   "outputs": [],
   "source": [
    "import numpy as np"
   ]
  },
  {
   "cell_type": "code",
   "execution_count": 155,
   "metadata": {},
   "outputs": [],
   "source": [
    "uncertainty_dict = {}\n",
    "uncertainty_list = []\n",
    "x_range = np.arange(-5,5.1,0.1)\n",
    "y_range = np.arange(-5,5.1,0.1)\n",
    "z_range = np.arange(0,5.1,0.1)\n",
    "\n",
    "N = len(x_range)\n",
    "for i in range(len(x_range)):\n",
    "    for j in range(len(y_range)):\n",
    "        for k in range(len(z_range)):\n",
    "            element = (x_range[i], y_range[j], z_range[k])\n",
    "            uncertainty_dict[element] = 1\n",
    "            uncertainty_list.append([x_range[i], y_range[j], z_range[k]])\n",
    "        \n",
    "uncertainty_grids = np.array(uncertainty_list)\n",
    "uncertainty_values = np.ones((uncertainty_grids.shape[0], ))"
   ]
  },
  {
   "cell_type": "markdown",
   "metadata": {},
   "source": [
    "## List approach (so slow)"
   ]
  },
  {
   "cell_type": "code",
   "execution_count": 44,
   "metadata": {},
   "outputs": [
    {
     "name": "stdout",
     "output_type": "stream",
     "text": [
      "that's right\n"
     ]
    },
    {
     "data": {
      "text/plain": [
       "(1.0, 2.0, 3.5)"
      ]
     },
     "execution_count": 44,
     "metadata": {},
     "output_type": "execute_result"
    }
   ],
   "source": [
    "dist = 1e6\n",
    "eps = 0.25\n",
    "current_pos = [1.0, 2.0, 3.5]\n",
    "closest_grid = None\n",
    "\n",
    "for key, value in uncertainty_list.items():\n",
    "    current_dist = np.sqrt((key[0]-current_pos[0])**2 + (key[1]-current_pos[1])**2 + (key[2]-current_pos[2])**2)\n",
    "    if current_dist < dist:\n",
    "        dist = current_dist\n",
    "        closest_grid = key\n",
    "        \n",
    "    if current_dist <= eps:\n",
    "        print (\"that's right\")\n",
    "        break\n",
    "        \n",
    "closest_grid"
   ]
  },
  {
   "cell_type": "markdown",
   "metadata": {},
   "source": [
    "## Array approach"
   ]
  },
  {
   "cell_type": "code",
   "execution_count": 11,
   "metadata": {},
   "outputs": [
    {
     "name": "stdout",
     "output_type": "stream",
     "text": [
      "Closest grid:  [1.7 2.  3.5]\n",
      "Uncertainty value:  1.0\n"
     ]
    }
   ],
   "source": [
    "current_pos = [1.75, 2.0, 3.5]\n",
    "\n",
    "differences = current_pos-uncertainty_grids\n",
    "distances = np.sum(differences*differences,axis=1)\n",
    "min_ind = np.argmin(distances)\n",
    "print(\"Closest grid: \",uncertainty_grids[min_ind])\n",
    "print(\"Uncertainty value: \", uncertainty_values[min_ind])"
   ]
  },
  {
   "cell_type": "code",
   "execution_count": 10,
   "metadata": {},
   "outputs": [],
   "source": [
    "X,Y,Z = np.mgrid[-5:5.1:0.1, -5:5.1:0.1,0:5.1:0.1]\n",
    "uncertainty_grids = np.vstack((X.flatten(), Y.flatten(), Z.flatten())).T\n",
    "uncertainty_values = np.ones((uncertainty_grids.shape[0], ))\n",
    "# xyz[min_ind]"
   ]
  },
  {
   "cell_type": "code",
   "execution_count": 7,
   "metadata": {},
   "outputs": [
    {
     "data": {
      "text/plain": [
       "array([[-5. , -5. ,  0. ],\n",
       "       [-5. , -5. ,  0.1],\n",
       "       [-5. , -5. ,  0.2],\n",
       "       [-5. , -5. ,  0.3],\n",
       "       [-5. , -5. ,  0.4]])"
      ]
     },
     "execution_count": 7,
     "metadata": {},
     "output_type": "execute_result"
    }
   ],
   "source": [
    "xyz[0:5,:]"
   ]
  },
  {
   "cell_type": "code",
   "execution_count": null,
   "metadata": {},
   "outputs": [],
   "source": []
  },
  {
   "cell_type": "code",
   "execution_count": null,
   "metadata": {},
   "outputs": [],
   "source": []
  },
  {
   "cell_type": "code",
   "execution_count": null,
   "metadata": {},
   "outputs": [],
   "source": []
  },
  {
   "cell_type": "code",
   "execution_count": null,
   "metadata": {},
   "outputs": [],
   "source": []
  },
  {
   "cell_type": "code",
   "execution_count": null,
   "metadata": {},
   "outputs": [],
   "source": []
  },
  {
   "cell_type": "code",
   "execution_count": null,
   "metadata": {},
   "outputs": [],
   "source": []
  },
  {
   "cell_type": "code",
   "execution_count": null,
   "metadata": {},
   "outputs": [],
   "source": []
  },
  {
   "cell_type": "code",
   "execution_count": null,
   "metadata": {},
   "outputs": [],
   "source": []
  },
  {
   "cell_type": "code",
   "execution_count": null,
   "metadata": {},
   "outputs": [],
   "source": []
  },
  {
   "cell_type": "code",
   "execution_count": null,
   "metadata": {},
   "outputs": [],
   "source": []
  }
 ],
 "metadata": {
  "kernelspec": {
   "display_name": "Python 3",
   "language": "python",
   "name": "python3"
  },
  "language_info": {
   "codemirror_mode": {
    "name": "ipython",
    "version": 3
   },
   "file_extension": ".py",
   "mimetype": "text/x-python",
   "name": "python",
   "nbconvert_exporter": "python",
   "pygments_lexer": "ipython3",
   "version": "3.7.4"
  }
 },
 "nbformat": 4,
 "nbformat_minor": 4
}
