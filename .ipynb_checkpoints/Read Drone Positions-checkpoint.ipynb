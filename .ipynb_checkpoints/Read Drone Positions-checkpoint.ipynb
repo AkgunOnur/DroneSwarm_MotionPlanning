{
 "cells": [
  {
   "cell_type": "code",
   "execution_count": 8,
   "metadata": {},
   "outputs": [],
   "source": [
    "import pickle\n",
    "import numpy as np"
   ]
  },
  {
   "cell_type": "code",
   "execution_count": 9,
   "metadata": {},
   "outputs": [],
   "source": [
    "x_lim = 20  # grid x limit\n",
    "y_lim = 20  # grid y limit\n",
    "z_lim = 15  # grid z limit\n",
    "res = 1.0  # resolution for grids\n",
    "out_shape = 164  # width and height for uncertainty matrix\n",
    "dist = 5.0  # distance threshold\n",
    "\n",
    "X, Y, Z = np.mgrid[-x_lim:x_lim + 0.1:res, -\n",
    "                   y_lim:y_lim + 0.1:res, 0:z_lim + 0.1:res]\n",
    "uncertainty_grids = np.vstack((X.flatten(), Y.flatten(), Z.flatten())).T\n",
    "uncertainty_values = np.random.uniform(low=0.95, high=1.0, size=(uncertainty_grids.shape[0],))\n",
    "grid_visits = np.zeros((uncertainty_grids.shape[0], ))"
   ]
  },
  {
   "cell_type": "code",
   "execution_count": 10,
   "metadata": {},
   "outputs": [],
   "source": [
    "with open('agents_positions.pkl', 'rb') as f:\n",
    "    agent_pos_over_episodes = pickle.load(f)"
   ]
  },
  {
   "cell_type": "code",
   "execution_count": 19,
   "metadata": {
    "scrolled": true
   },
   "outputs": [
    {
     "name": "stdout",
     "output_type": "stream",
     "text": [
      "Episode: 0\n",
      "Episode: 1\n",
      "Episode: 2\n",
      "Episode: 3\n",
      "Episode: 4\n"
     ]
    }
   ],
   "source": [
    "n_agents = 3\n",
    "for episode in range(len(agent_pos_over_episodes)):\n",
    "    print (\"Episode: {0}\".format(episode))\n",
    "    for agent in range(n_agents):\n",
    "        filename = \"txt_files/episode_\" + str(episode) + \"_agent_\" + str(agent) + \".txt\"\n",
    "        file1 = open(filename,\"w\") \n",
    "        init_pos = np.array(agent_pos_over_episodes[episode][agent][0][0:3])\n",
    "        for i in range(len(agent_pos_over_episodes[episode][agent])):\n",
    "            drone_pos = np.array(agent_pos_over_episodes[episode][agent][i][0:3]) # x,y,z\n",
    "            relative_pos = drone_pos - init_pos\n",
    "            relative_pos[2] = -relative_pos[2]\n",
    "            txt = str(relative_pos[0]) + \",\" + str(relative_pos[1]) + \",\" + str(relative_pos[2]) + \"\\n\"\n",
    "            file1.write(txt) \n",
    "        file1.close()\n",
    "#             print (\"Agent: {0}, X:{1:.3}, Y:{2:.3}, Z:{3:.3}\".format(agent, drone_pos[0], drone_pos[1], drone_pos[2]))\n",
    "#             differences = drone_pos - uncertainty_grids\n",
    "#             distances = np.sum(differences * differences, axis=1)\n",
    "#             indices = distances < dist\n",
    "#             print (\"Closest Grids: \", uncertainty_grids[indices])"
   ]
  },
  {
   "cell_type": "code",
   "execution_count": null,
   "metadata": {},
   "outputs": [],
   "source": []
  },
  {
   "cell_type": "code",
   "execution_count": null,
   "metadata": {},
   "outputs": [],
   "source": []
  },
  {
   "cell_type": "code",
   "execution_count": null,
   "metadata": {},
   "outputs": [],
   "source": []
  },
  {
   "cell_type": "code",
   "execution_count": null,
   "metadata": {},
   "outputs": [],
   "source": []
  },
  {
   "cell_type": "code",
   "execution_count": null,
   "metadata": {},
   "outputs": [],
   "source": []
  }
 ],
 "metadata": {
  "kernelspec": {
   "display_name": "Python 3",
   "language": "python",
   "name": "python3"
  },
  "language_info": {
   "codemirror_mode": {
    "name": "ipython",
    "version": 3
   },
   "file_extension": ".py",
   "mimetype": "text/x-python",
   "name": "python",
   "nbconvert_exporter": "python",
   "pygments_lexer": "ipython3",
   "version": "3.7.4"
  }
 },
 "nbformat": 4,
 "nbformat_minor": 4
}
