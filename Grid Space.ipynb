{
 "cells": [
  {
   "cell_type": "code",
   "execution_count": 2,
   "metadata": {},
   "outputs": [],
   "source": [
    "import numpy as np\n",
    "import time\n",
    "from numpy.random import uniform"
   ]
  },
  {
   "cell_type": "markdown",
   "metadata": {},
   "source": [
    "## List approach (so slow)"
   ]
  },
  {
   "cell_type": "code",
   "execution_count": 155,
   "metadata": {},
   "outputs": [],
   "source": [
    "uncertainty_dict = {}\n",
    "uncertainty_list = []\n",
    "x_range = np.arange(-5,5.1,0.1)\n",
    "y_range = np.arange(-5,5.1,0.1)\n",
    "z_range = np.arange(0,5.1,0.1)\n",
    "\n",
    "N = len(x_range)\n",
    "for i in range(len(x_range)):\n",
    "    for j in range(len(y_range)):\n",
    "        for k in range(len(z_range)):\n",
    "            element = (x_range[i], y_range[j], z_range[k])\n",
    "            uncertainty_dict[element] = 1\n",
    "            uncertainty_list.append([x_range[i], y_range[j], z_range[k]])\n",
    "        \n",
    "uncertainty_grids = np.array(uncertainty_list)\n",
    "uncertainty_values = np.ones((uncertainty_grids.shape[0], ))"
   ]
  },
  {
   "cell_type": "code",
   "execution_count": 44,
   "metadata": {},
   "outputs": [
    {
     "name": "stdout",
     "output_type": "stream",
     "text": [
      "that's right\n"
     ]
    },
    {
     "data": {
      "text/plain": [
       "(1.0, 2.0, 3.5)"
      ]
     },
     "execution_count": 44,
     "metadata": {},
     "output_type": "execute_result"
    }
   ],
   "source": [
    "dist = 1e6\n",
    "eps = 0.25\n",
    "current_pos = [1.0, 2.0, 3.5]\n",
    "closest_grid = None\n",
    "\n",
    "for key, value in uncertainty_list.items():\n",
    "    current_dist = np.sqrt((key[0]-current_pos[0])**2 + (key[1]-current_pos[1])**2 + (key[2]-current_pos[2])**2)\n",
    "    if current_dist < dist:\n",
    "        dist = current_dist\n",
    "        closest_grid = key\n",
    "        \n",
    "    if current_dist <= eps:\n",
    "        print (\"that's right\")\n",
    "        break\n",
    "        \n",
    "closest_grid"
   ]
  },
  {
   "cell_type": "markdown",
   "metadata": {},
   "source": [
    "## Array approach (much faster)"
   ]
  },
  {
   "cell_type": "code",
   "execution_count": 9,
   "metadata": {},
   "outputs": [
    {
     "name": "stdout",
     "output_type": "stream",
     "text": [
      "(6724, 3)\n",
      "82.0\n"
     ]
    }
   ],
   "source": [
    "x_lim, y_lim, z_lim = 20, 20, 6\n",
    "eps = 0.1\n",
    "res = 1\n",
    "X,Y,Z = np.mgrid[-x_lim:x_lim+eps:res, -y_lim:y_lim+eps:res, 0:z_lim+eps:res*2]\n",
    "uncertainty_grids = np.vstack((X.flatten(), Y.flatten(), Z.flatten())).T\n",
    "uncertainty_values = np.ones((uncertainty_grids.shape[0], ))\n",
    "grid_visits = np.zeros((uncertainty_grids.shape[0], ))\n",
    "\n",
    "print (uncertainty_grids.shape)\n",
    "print (np.sqrt(uncertainty_grids.shape[0]))"
   ]
  },
  {
   "cell_type": "code",
   "execution_count": 8,
   "metadata": {},
   "outputs": [
    {
     "data": {
      "text/plain": [
       "array([-20., -20.,   0.])"
      ]
     },
     "execution_count": 8,
     "metadata": {},
     "output_type": "execute_result"
    }
   ],
   "source": [
    "uncertainty_grids[0]"
   ]
  },
  {
   "cell_type": "code",
   "execution_count": 11,
   "metadata": {},
   "outputs": [
    {
     "name": "stdout",
     "output_type": "stream",
     "text": [
      "Closest grid:  [2. 2. 4.]\n",
      "Uncertainty value:  1.0\n",
      "Closest N Grids:  25\n"
     ]
    }
   ],
   "source": [
    "current_pos = [1.75, 2.0, 3.5]\n",
    "\n",
    "differences = current_pos-uncertainty_grids\n",
    "distances = np.sum(differences*differences,axis=1)\n",
    "min_ind = np.argmin(distances)\n",
    "print(\"Closest grid: \",uncertainty_grids[min_ind])\n",
    "print(\"Uncertainty value: \", uncertainty_values[min_ind])\n",
    "\n",
    "# Closest N grids\n",
    "dist = 5.0\n",
    "indices = np.where(distances<dist)[0]\n",
    "print (\"Closest N Grids: \", len(indices))"
   ]
  },
  {
   "cell_type": "code",
   "execution_count": 72,
   "metadata": {},
   "outputs": [],
   "source": [
    "def closest_grid(current_pos):\n",
    "    differences = current_pos-uncertainty_grids\n",
    "    distances = np.sum(differences*differences,axis=1)\n",
    "    min_ind = np.argmin(distances)\n",
    "    \n",
    "    return min_ind"
   ]
  },
  {
   "cell_type": "code",
   "execution_count": 12,
   "metadata": {},
   "outputs": [],
   "source": [
    "uncertainty_values[distances<dist] = 0.3\n",
    "\n",
    "grid_visits[distances<dist] += 1"
   ]
  },
  {
   "cell_type": "code",
   "execution_count": 57,
   "metadata": {},
   "outputs": [
    {
     "data": {
      "text/plain": [
       "array([0.36787944, 0.36787944, 0.36787944, 0.36787944, 0.36787944,\n",
       "       0.36787944, 0.36787944, 0.36787944, 0.36787944, 0.36787944,\n",
       "       0.36787944, 0.36787944, 0.36787944, 0.36787944, 0.36787944,\n",
       "       0.36787944, 0.36787944, 0.36787944, 0.36787944, 0.36787944,\n",
       "       0.36787944, 0.36787944, 0.36787944, 0.36787944, 0.36787944,\n",
       "       0.36787944, 0.36787944, 0.36787944, 0.36787944, 0.36787944,\n",
       "       0.36787944, 0.36787944, 0.36787944, 0.36787944, 0.36787944,\n",
       "       0.36787944, 0.36787944, 0.36787944, 0.36787944, 0.36787944,\n",
       "       0.36787944, 0.36787944, 0.36787944, 0.36787944, 0.36787944,\n",
       "       0.36787944, 0.36787944, 0.36787944, 0.36787944, 0.36787944])"
      ]
     },
     "execution_count": 57,
     "metadata": {},
     "output_type": "execute_result"
    }
   ],
   "source": [
    "np.clip(np.exp(-grid_visits[distances<dist]), 1e-6, 1.0)"
   ]
  },
  {
   "cell_type": "code",
   "execution_count": 89,
   "metadata": {},
   "outputs": [
    {
     "name": "stdout",
     "output_type": "stream",
     "text": [
      "[ 9.89994975 -6.88315257  2.92694057]\n",
      "[12.84574727 -2.41378293  4.2853012 ]\n",
      "4973\n",
      "5486\n"
     ]
    }
   ],
   "source": [
    "drone_pos_stack = np.zeros(uncertainty_values.shape)\n",
    "drone_pos_stack[min_ind] = 1\n",
    "drone_pos_stack = drone_pos_stack.reshape(82,82)\n",
    "\n",
    "grid_xyz_0 = np.array([uniform(-10, 10), uniform(-10, 10), uniform(0.5,3)])\n",
    "grid_xyz_1 = grid_xyz_0 + np.array([uniform(0, 5), uniform(0, 5), uniform(0.5,3)])\n",
    "\n",
    "print (grid_xyz_0)\n",
    "print (grid_xyz_1)\n",
    "\n",
    "print (closest_grid(grid_xyz_0))\n",
    "print (closest_grid(grid_xyz_1))"
   ]
  },
  {
   "cell_type": "code",
   "execution_count": 90,
   "metadata": {},
   "outputs": [],
   "source": [
    "x_range = np.arange(grid_xyz_0[0], grid_xyz_1[0], 0.25)\n",
    "y_range = np.arange(grid_xyz_0[1], grid_xyz_1[1], 0.25)\n",
    "z_range = np.arange(grid_xyz_0[2], grid_xyz_1[2], 0.5)\n",
    "\n",
    "indices = []\n",
    "for x in x_range:\n",
    "    for y in y_range:\n",
    "        for z in z_range:\n",
    "            current_pos = np.array([x,y,z])\n",
    "            current_ind = closest_grid(current_pos)\n",
    "            if current_ind not in indices:\n",
    "                indices.append(current_ind)"
   ]
  },
  {
   "cell_type": "code",
   "execution_count": 112,
   "metadata": {},
   "outputs": [
    {
     "data": {
      "text/plain": [
       "array([0., 0., 0.])"
      ]
     },
     "execution_count": 112,
     "metadata": {},
     "output_type": "execute_result"
    }
   ],
   "source": [
    "a = np.array([-1,2,-3])\n",
    "np.zeros(3)"
   ]
  },
  {
   "cell_type": "code",
   "execution_count": 113,
   "metadata": {},
   "outputs": [
    {
     "ename": "TypeError",
     "evalue": "zip argument #1 must support iteration",
     "output_type": "error",
     "traceback": [
      "\u001b[1;31m---------------------------------------------------------------------------\u001b[0m",
      "\u001b[1;31mTypeError\u001b[0m                                 Traceback (most recent call last)",
      "\u001b[1;32m<ipython-input-113-62157269be12>\u001b[0m in \u001b[0;36m<module>\u001b[1;34m\u001b[0m\n\u001b[1;32m----> 1\u001b[1;33m \u001b[1;32mfor\u001b[0m \u001b[0mi\u001b[0m\u001b[1;33m,\u001b[0m\u001b[0mj\u001b[0m \u001b[1;32min\u001b[0m \u001b[0mzip\u001b[0m\u001b[1;33m(\u001b[0m\u001b[1;36m3\u001b[0m\u001b[1;33m,\u001b[0m\u001b[1;36m4\u001b[0m\u001b[1;33m)\u001b[0m\u001b[1;33m:\u001b[0m\u001b[1;33m\u001b[0m\u001b[1;33m\u001b[0m\u001b[0m\n\u001b[0m\u001b[0;32m      2\u001b[0m     \u001b[0mprint\u001b[0m \u001b[1;33m(\u001b[0m\u001b[0mi\u001b[0m\u001b[1;33m+\u001b[0m\u001b[0mj\u001b[0m\u001b[1;33m)\u001b[0m\u001b[1;33m\u001b[0m\u001b[1;33m\u001b[0m\u001b[0m\n",
      "\u001b[1;31mTypeError\u001b[0m: zip argument #1 must support iteration"
     ]
    }
   ],
   "source": [
    "for i,j in zip(3,4):\n",
    "    print (i+j)"
   ]
  },
  {
   "cell_type": "code",
   "execution_count": 109,
   "metadata": {},
   "outputs": [
    {
     "data": {
      "text/plain": [
       "array([10., -7.,  2.])"
      ]
     },
     "execution_count": 109,
     "metadata": {},
     "output_type": "execute_result"
    }
   ],
   "source": [
    "np.min(uncertainty_grids[indices],axis=0)"
   ]
  },
  {
   "cell_type": "code",
   "execution_count": 108,
   "metadata": {},
   "outputs": [
    {
     "data": {
      "text/plain": [
       "array([13., -3.,  4.])"
      ]
     },
     "execution_count": 108,
     "metadata": {},
     "output_type": "execute_result"
    }
   ],
   "source": [
    "np.max(uncertainty_grids[indices],axis=0)"
   ]
  },
  {
   "cell_type": "code",
   "execution_count": 13,
   "metadata": {},
   "outputs": [],
   "source": [
    "obstacle_indices = [1576, 1577, 1578, 1579, 1580, 1581, 1582, 1583, 1584, 1585, 1586, 1587, 1588, 1589, 1590, 1591, 1592, 1593, 1594, 1595, 1596, 1597, 1598, 1599, 1600, 1601, 1602, 1603, 1604, 1605, 1606, 1607, 1608, 1609, 1610, 1611, 1612, 1613, 1614, 1615, 1616, 1617, 1618, 1619, 1620, 1621, 1622, 1623, 1624, 1625, 1626, 1627, 1740, 1741, 1742, 1743, 1744, 1745, 1746, 1747, 1748, 1749, 1750, 1751, 1752, 1753, 1754, 1755, 1756, 1757, 1758, 1759, 1760, 1761, 1762, 1763, 1764, 1765, 1766, 1767, 1768, 1769, 1770, 1771, 1772, 1773, 1774, 1775, 1776, 1777, 1778, 1779, 1780, 1781, 1782, 1783, 1784, 1785, 1786, 1787, 1788, 1789, 1790, 1791, 1904, 1905, 1906, 1907, 1908, 1909, 1910, 1911, 1912, 1913, 1914, 1915, 1916, 1917, 1918, 1919, 1920, 1921, 1922, 1923, 1924, 1925, 1926, 1927, 1928, 1929, 1930, 1931, 1932, 1933, 1934, 1935, 1936, 1937, 1938, 1939, 1940, 1941, 1942, 1943, 1944, 1945, 1946, 1947, 1948, 1949, 1950, 1951, 1952, 1953, 1954, 1955, 4140, 4141, 4142, 4143, 4144, 4145, 4146, 4147, 4148, 4149, 4150, 4151, 4152, 4153, 4154, 4155, 4156, 4157, 4158, 4159, 4160, 4161, 4162, 4163, 4164, 4165, 4166, 4167, 4168, 4169, 4170, 4171, 4172, 4173, 4174, 4175, 4176, 4177, 4178, 4179, 4180, 4181, 4182, 4183, 4184, 4185, 4186, 4187, 4188, 4189, 4190, 4191, 4192, 4193, 4194, 4195, 4196, 4197, 4198, 4199, 4200, 4201, 4202, 4203, 4204, 4205, 4206, 4207, 4208, 4209, 4210, 4211, 4212, 4213, 4214, 4215, 4216, 4217, 4218, 4219, 4220, 4221, 4222, 4223, 4224, 4225, 4226, 4227, 4304, 4305, 4306, 4307, 4308, 4309, 4310, 4311, 4312, 4313, 4314, 4315, 4316, 4317, 4318, 4319, 4320, 4321, 4322, 4323, 4324, 4325, 4326, 4327, 4328, 4329, 4330, 4331, 4332, 4333, 4334, 4335, 4336, 4337, 4338, 4339, 4340, 4341, 4342, 4343, 4344, 4345, 4346, 4347, 4348, 4349, 4350, 4351, 4352, 4353, 4354, 4355, 4356, 4357, 4358, 4359, 4360, 4361, 4362, 4363, 4364, 4365, 4366, 4367, 4368, 4369, 4370, 4371]\n"
   ]
  },
  {
   "cell_type": "code",
   "execution_count": 14,
   "metadata": {},
   "outputs": [
    {
     "data": {
      "text/plain": [
       "array([[-11.,   5.,   0.],\n",
       "       [-11.,   5.,   2.],\n",
       "       [-11.,   5.,   4.],\n",
       "       [-11.,   5.,   6.],\n",
       "       [-11.,   6.,   0.],\n",
       "       [-11.,   6.,   2.],\n",
       "       [-11.,   6.,   4.],\n",
       "       [-11.,   6.,   6.],\n",
       "       [-11.,   7.,   0.],\n",
       "       [-11.,   7.,   2.],\n",
       "       [-11.,   7.,   4.],\n",
       "       [-11.,   7.,   6.],\n",
       "       [-11.,   8.,   0.],\n",
       "       [-11.,   8.,   2.],\n",
       "       [-11.,   8.,   4.],\n",
       "       [-11.,   8.,   6.],\n",
       "       [-11.,   9.,   0.],\n",
       "       [-11.,   9.,   2.],\n",
       "       [-11.,   9.,   4.],\n",
       "       [-11.,   9.,   6.],\n",
       "       [-11.,  10.,   0.],\n",
       "       [-11.,  10.,   2.],\n",
       "       [-11.,  10.,   4.],\n",
       "       [-11.,  10.,   6.],\n",
       "       [-11.,  11.,   0.],\n",
       "       [-11.,  11.,   2.],\n",
       "       [-11.,  11.,   4.],\n",
       "       [-11.,  11.,   6.],\n",
       "       [-11.,  12.,   0.],\n",
       "       [-11.,  12.,   2.],\n",
       "       [-11.,  12.,   4.],\n",
       "       [-11.,  12.,   6.],\n",
       "       [-11.,  13.,   0.],\n",
       "       [-11.,  13.,   2.],\n",
       "       [-11.,  13.,   4.],\n",
       "       [-11.,  13.,   6.],\n",
       "       [-11.,  14.,   0.],\n",
       "       [-11.,  14.,   2.],\n",
       "       [-11.,  14.,   4.],\n",
       "       [-11.,  14.,   6.],\n",
       "       [-11.,  15.,   0.],\n",
       "       [-11.,  15.,   2.],\n",
       "       [-11.,  15.,   4.],\n",
       "       [-11.,  15.,   6.],\n",
       "       [-11.,  16.,   0.],\n",
       "       [-11.,  16.,   2.],\n",
       "       [-11.,  16.,   4.],\n",
       "       [-11.,  16.,   6.],\n",
       "       [-11.,  17.,   0.],\n",
       "       [-11.,  17.,   2.],\n",
       "       [-11.,  17.,   4.],\n",
       "       [-11.,  17.,   6.],\n",
       "       [-10.,   5.,   0.],\n",
       "       [-10.,   5.,   2.],\n",
       "       [-10.,   5.,   4.],\n",
       "       [-10.,   5.,   6.],\n",
       "       [-10.,   6.,   0.],\n",
       "       [-10.,   6.,   2.],\n",
       "       [-10.,   6.,   4.],\n",
       "       [-10.,   6.,   6.],\n",
       "       [-10.,   7.,   0.],\n",
       "       [-10.,   7.,   2.],\n",
       "       [-10.,   7.,   4.],\n",
       "       [-10.,   7.,   6.],\n",
       "       [-10.,   8.,   0.],\n",
       "       [-10.,   8.,   2.],\n",
       "       [-10.,   8.,   4.],\n",
       "       [-10.,   8.,   6.],\n",
       "       [-10.,   9.,   0.],\n",
       "       [-10.,   9.,   2.],\n",
       "       [-10.,   9.,   4.],\n",
       "       [-10.,   9.,   6.],\n",
       "       [-10.,  10.,   0.],\n",
       "       [-10.,  10.,   2.],\n",
       "       [-10.,  10.,   4.],\n",
       "       [-10.,  10.,   6.],\n",
       "       [-10.,  11.,   0.],\n",
       "       [-10.,  11.,   2.],\n",
       "       [-10.,  11.,   4.],\n",
       "       [-10.,  11.,   6.],\n",
       "       [-10.,  12.,   0.],\n",
       "       [-10.,  12.,   2.],\n",
       "       [-10.,  12.,   4.],\n",
       "       [-10.,  12.,   6.],\n",
       "       [-10.,  13.,   0.],\n",
       "       [-10.,  13.,   2.],\n",
       "       [-10.,  13.,   4.],\n",
       "       [-10.,  13.,   6.],\n",
       "       [-10.,  14.,   0.],\n",
       "       [-10.,  14.,   2.],\n",
       "       [-10.,  14.,   4.],\n",
       "       [-10.,  14.,   6.],\n",
       "       [-10.,  15.,   0.],\n",
       "       [-10.,  15.,   2.],\n",
       "       [-10.,  15.,   4.],\n",
       "       [-10.,  15.,   6.],\n",
       "       [-10.,  16.,   0.],\n",
       "       [-10.,  16.,   2.],\n",
       "       [-10.,  16.,   4.],\n",
       "       [-10.,  16.,   6.],\n",
       "       [-10.,  17.,   0.],\n",
       "       [-10.,  17.,   2.],\n",
       "       [-10.,  17.,   4.],\n",
       "       [-10.,  17.,   6.],\n",
       "       [ -9.,   5.,   0.],\n",
       "       [ -9.,   5.,   2.],\n",
       "       [ -9.,   5.,   4.],\n",
       "       [ -9.,   5.,   6.],\n",
       "       [ -9.,   6.,   0.],\n",
       "       [ -9.,   6.,   2.],\n",
       "       [ -9.,   6.,   4.],\n",
       "       [ -9.,   6.,   6.],\n",
       "       [ -9.,   7.,   0.],\n",
       "       [ -9.,   7.,   2.],\n",
       "       [ -9.,   7.,   4.],\n",
       "       [ -9.,   7.,   6.],\n",
       "       [ -9.,   8.,   0.],\n",
       "       [ -9.,   8.,   2.],\n",
       "       [ -9.,   8.,   4.],\n",
       "       [ -9.,   8.,   6.],\n",
       "       [ -9.,   9.,   0.],\n",
       "       [ -9.,   9.,   2.],\n",
       "       [ -9.,   9.,   4.],\n",
       "       [ -9.,   9.,   6.],\n",
       "       [ -9.,  10.,   0.],\n",
       "       [ -9.,  10.,   2.],\n",
       "       [ -9.,  10.,   4.],\n",
       "       [ -9.,  10.,   6.],\n",
       "       [ -9.,  11.,   0.],\n",
       "       [ -9.,  11.,   2.],\n",
       "       [ -9.,  11.,   4.],\n",
       "       [ -9.,  11.,   6.],\n",
       "       [ -9.,  12.,   0.],\n",
       "       [ -9.,  12.,   2.],\n",
       "       [ -9.,  12.,   4.],\n",
       "       [ -9.,  12.,   6.],\n",
       "       [ -9.,  13.,   0.],\n",
       "       [ -9.,  13.,   2.],\n",
       "       [ -9.,  13.,   4.],\n",
       "       [ -9.,  13.,   6.],\n",
       "       [ -9.,  14.,   0.],\n",
       "       [ -9.,  14.,   2.],\n",
       "       [ -9.,  14.,   4.],\n",
       "       [ -9.,  14.,   6.],\n",
       "       [ -9.,  15.,   0.],\n",
       "       [ -9.,  15.,   2.],\n",
       "       [ -9.,  15.,   4.],\n",
       "       [ -9.,  15.,   6.],\n",
       "       [ -9.,  16.,   0.],\n",
       "       [ -9.,  16.,   2.],\n",
       "       [ -9.,  16.,   4.],\n",
       "       [ -9.,  16.,   6.],\n",
       "       [ -9.,  17.,   0.],\n",
       "       [ -9.,  17.,   2.],\n",
       "       [ -9.,  17.,   4.],\n",
       "       [ -9.,  17.,   6.],\n",
       "       [  5., -10.,   0.],\n",
       "       [  5., -10.,   2.],\n",
       "       [  5., -10.,   4.],\n",
       "       [  5., -10.,   6.],\n",
       "       [  5.,  -9.,   0.],\n",
       "       [  5.,  -9.,   2.],\n",
       "       [  5.,  -9.,   4.],\n",
       "       [  5.,  -9.,   6.],\n",
       "       [  5.,  -8.,   0.],\n",
       "       [  5.,  -8.,   2.],\n",
       "       [  5.,  -8.,   4.],\n",
       "       [  5.,  -8.,   6.],\n",
       "       [  5.,  -7.,   0.],\n",
       "       [  5.,  -7.,   2.],\n",
       "       [  5.,  -7.,   4.],\n",
       "       [  5.,  -7.,   6.],\n",
       "       [  5.,  -6.,   0.],\n",
       "       [  5.,  -6.,   2.],\n",
       "       [  5.,  -6.,   4.],\n",
       "       [  5.,  -6.,   6.],\n",
       "       [  5.,  -5.,   0.],\n",
       "       [  5.,  -5.,   2.],\n",
       "       [  5.,  -5.,   4.],\n",
       "       [  5.,  -5.,   6.],\n",
       "       [  5.,  -4.,   0.],\n",
       "       [  5.,  -4.,   2.],\n",
       "       [  5.,  -4.,   4.],\n",
       "       [  5.,  -4.,   6.],\n",
       "       [  5.,  -3.,   0.],\n",
       "       [  5.,  -3.,   2.],\n",
       "       [  5.,  -3.,   4.],\n",
       "       [  5.,  -3.,   6.],\n",
       "       [  5.,  -2.,   0.],\n",
       "       [  5.,  -2.,   2.],\n",
       "       [  5.,  -2.,   4.],\n",
       "       [  5.,  -2.,   6.],\n",
       "       [  5.,  -1.,   0.],\n",
       "       [  5.,  -1.,   2.],\n",
       "       [  5.,  -1.,   4.],\n",
       "       [  5.,  -1.,   6.],\n",
       "       [  5.,   0.,   0.],\n",
       "       [  5.,   0.,   2.],\n",
       "       [  5.,   0.,   4.],\n",
       "       [  5.,   0.,   6.],\n",
       "       [  5.,   1.,   0.],\n",
       "       [  5.,   1.,   2.],\n",
       "       [  5.,   1.,   4.],\n",
       "       [  5.,   1.,   6.],\n",
       "       [  5.,   2.,   0.],\n",
       "       [  5.,   2.,   2.],\n",
       "       [  5.,   2.,   4.],\n",
       "       [  5.,   2.,   6.],\n",
       "       [  5.,   3.,   0.],\n",
       "       [  5.,   3.,   2.],\n",
       "       [  5.,   3.,   4.],\n",
       "       [  5.,   3.,   6.],\n",
       "       [  5.,   4.,   0.],\n",
       "       [  5.,   4.,   2.],\n",
       "       [  5.,   4.,   4.],\n",
       "       [  5.,   4.,   6.],\n",
       "       [  5.,   5.,   0.],\n",
       "       [  5.,   5.,   2.],\n",
       "       [  5.,   5.,   4.],\n",
       "       [  5.,   5.,   6.],\n",
       "       [  5.,   6.,   0.],\n",
       "       [  5.,   6.,   2.],\n",
       "       [  5.,   6.,   4.],\n",
       "       [  5.,   6.,   6.],\n",
       "       [  5.,   7.,   0.],\n",
       "       [  5.,   7.,   2.],\n",
       "       [  5.,   7.,   4.],\n",
       "       [  5.,   7.,   6.],\n",
       "       [  5.,   8.,   0.],\n",
       "       [  5.,   8.,   2.],\n",
       "       [  5.,   8.,   4.],\n",
       "       [  5.,   8.,   6.],\n",
       "       [  5.,   9.,   0.],\n",
       "       [  5.,   9.,   2.],\n",
       "       [  5.,   9.,   4.],\n",
       "       [  5.,   9.,   6.],\n",
       "       [  5.,  10.,   0.],\n",
       "       [  5.,  10.,   2.],\n",
       "       [  5.,  10.,   4.],\n",
       "       [  5.,  10.,   6.],\n",
       "       [  5.,  11.,   0.],\n",
       "       [  5.,  11.,   2.],\n",
       "       [  5.,  11.,   4.],\n",
       "       [  5.,  11.,   6.],\n",
       "       [  6., -10.,   0.],\n",
       "       [  6., -10.,   2.],\n",
       "       [  6., -10.,   4.],\n",
       "       [  6., -10.,   6.],\n",
       "       [  6.,  -9.,   0.],\n",
       "       [  6.,  -9.,   2.],\n",
       "       [  6.,  -9.,   4.],\n",
       "       [  6.,  -9.,   6.],\n",
       "       [  6.,  -8.,   0.],\n",
       "       [  6.,  -8.,   2.],\n",
       "       [  6.,  -8.,   4.],\n",
       "       [  6.,  -8.,   6.],\n",
       "       [  6.,  -7.,   0.],\n",
       "       [  6.,  -7.,   2.],\n",
       "       [  6.,  -7.,   4.],\n",
       "       [  6.,  -7.,   6.],\n",
       "       [  6.,  -6.,   0.],\n",
       "       [  6.,  -6.,   2.],\n",
       "       [  6.,  -6.,   4.],\n",
       "       [  6.,  -6.,   6.],\n",
       "       [  6.,  -5.,   0.],\n",
       "       [  6.,  -5.,   2.],\n",
       "       [  6.,  -5.,   4.],\n",
       "       [  6.,  -5.,   6.],\n",
       "       [  6.,  -4.,   0.],\n",
       "       [  6.,  -4.,   2.],\n",
       "       [  6.,  -4.,   4.],\n",
       "       [  6.,  -4.,   6.],\n",
       "       [  6.,  -3.,   0.],\n",
       "       [  6.,  -3.,   2.],\n",
       "       [  6.,  -3.,   4.],\n",
       "       [  6.,  -3.,   6.],\n",
       "       [  6.,  -2.,   0.],\n",
       "       [  6.,  -2.,   2.],\n",
       "       [  6.,  -2.,   4.],\n",
       "       [  6.,  -2.,   6.],\n",
       "       [  6.,  -1.,   0.],\n",
       "       [  6.,  -1.,   2.],\n",
       "       [  6.,  -1.,   4.],\n",
       "       [  6.,  -1.,   6.],\n",
       "       [  6.,   0.,   0.],\n",
       "       [  6.,   0.,   2.],\n",
       "       [  6.,   0.,   4.],\n",
       "       [  6.,   0.,   6.],\n",
       "       [  6.,   1.,   0.],\n",
       "       [  6.,   1.,   2.],\n",
       "       [  6.,   1.,   4.],\n",
       "       [  6.,   1.,   6.],\n",
       "       [  6.,   2.,   0.],\n",
       "       [  6.,   2.,   2.],\n",
       "       [  6.,   2.,   4.],\n",
       "       [  6.,   2.,   6.],\n",
       "       [  6.,   3.,   0.],\n",
       "       [  6.,   3.,   2.],\n",
       "       [  6.,   3.,   4.],\n",
       "       [  6.,   3.,   6.],\n",
       "       [  6.,   4.,   0.],\n",
       "       [  6.,   4.,   2.],\n",
       "       [  6.,   4.,   4.],\n",
       "       [  6.,   4.,   6.],\n",
       "       [  6.,   5.,   0.],\n",
       "       [  6.,   5.,   2.],\n",
       "       [  6.,   5.,   4.],\n",
       "       [  6.,   5.,   6.],\n",
       "       [  6.,   6.,   0.],\n",
       "       [  6.,   6.,   2.],\n",
       "       [  6.,   6.,   4.],\n",
       "       [  6.,   6.,   6.]])"
      ]
     },
     "execution_count": 14,
     "metadata": {},
     "output_type": "execute_result"
    }
   ],
   "source": [
    "uncertainty_grids[obstacle_indices]"
   ]
  },
  {
   "cell_type": "code",
   "execution_count": null,
   "metadata": {},
   "outputs": [],
   "source": []
  },
  {
   "cell_type": "code",
   "execution_count": null,
   "metadata": {},
   "outputs": [],
   "source": []
  },
  {
   "cell_type": "code",
   "execution_count": null,
   "metadata": {},
   "outputs": [],
   "source": []
  },
  {
   "cell_type": "code",
   "execution_count": null,
   "metadata": {},
   "outputs": [],
   "source": []
  }
 ],
 "metadata": {
  "kernelspec": {
   "display_name": "Python 3",
   "language": "python",
   "name": "python3"
  },
  "language_info": {
   "codemirror_mode": {
    "name": "ipython",
    "version": 3
   },
   "file_extension": ".py",
   "mimetype": "text/x-python",
   "name": "python",
   "nbconvert_exporter": "python",
   "pygments_lexer": "ipython3",
   "version": "3.7.4"
  }
 },
 "nbformat": 4,
 "nbformat_minor": 4
}
