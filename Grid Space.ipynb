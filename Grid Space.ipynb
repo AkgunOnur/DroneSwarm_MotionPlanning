{
 "cells": [
  {
   "cell_type": "code",
   "execution_count": 1,
   "metadata": {},
   "outputs": [],
   "source": [
    "import numpy as np"
   ]
  },
  {
   "cell_type": "markdown",
   "metadata": {},
   "source": [
    "## List approach (so slow)"
   ]
  },
  {
   "cell_type": "code",
   "execution_count": 155,
   "metadata": {},
   "outputs": [],
   "source": [
    "uncertainty_dict = {}\n",
    "uncertainty_list = []\n",
    "x_range = np.arange(-5,5.1,0.1)\n",
    "y_range = np.arange(-5,5.1,0.1)\n",
    "z_range = np.arange(0,5.1,0.1)\n",
    "\n",
    "N = len(x_range)\n",
    "for i in range(len(x_range)):\n",
    "    for j in range(len(y_range)):\n",
    "        for k in range(len(z_range)):\n",
    "            element = (x_range[i], y_range[j], z_range[k])\n",
    "            uncertainty_dict[element] = 1\n",
    "            uncertainty_list.append([x_range[i], y_range[j], z_range[k]])\n",
    "        \n",
    "uncertainty_grids = np.array(uncertainty_list)\n",
    "uncertainty_values = np.ones((uncertainty_grids.shape[0], ))"
   ]
  },
  {
   "cell_type": "code",
   "execution_count": 44,
   "metadata": {},
   "outputs": [
    {
     "name": "stdout",
     "output_type": "stream",
     "text": [
      "that's right\n"
     ]
    },
    {
     "data": {
      "text/plain": [
       "(1.0, 2.0, 3.5)"
      ]
     },
     "execution_count": 44,
     "metadata": {},
     "output_type": "execute_result"
    }
   ],
   "source": [
    "dist = 1e6\n",
    "eps = 0.25\n",
    "current_pos = [1.0, 2.0, 3.5]\n",
    "closest_grid = None\n",
    "\n",
    "for key, value in uncertainty_list.items():\n",
    "    current_dist = np.sqrt((key[0]-current_pos[0])**2 + (key[1]-current_pos[1])**2 + (key[2]-current_pos[2])**2)\n",
    "    if current_dist < dist:\n",
    "        dist = current_dist\n",
    "        closest_grid = key\n",
    "        \n",
    "    if current_dist <= eps:\n",
    "        print (\"that's right\")\n",
    "        break\n",
    "        \n",
    "closest_grid"
   ]
  },
  {
   "cell_type": "markdown",
   "metadata": {},
   "source": [
    "## Array approach (much faster)"
   ]
  },
  {
   "cell_type": "code",
   "execution_count": 7,
   "metadata": {},
   "outputs": [
    {
     "name": "stdout",
     "output_type": "stream",
     "text": [
      "(203391, 3)\n"
     ]
    }
   ],
   "source": [
    "x_lim, y_lim, z_lim = 20, 20, 15\n",
    "eps = 0.1\n",
    "res = 1\n",
    "X,Y,Z = np.mgrid[-x_lim:x_lim+eps:res, -y_lim:y_lim+eps:res, 0:z_lim+eps:res]\n",
    "uncertainty_grids = np.vstack((X.flatten(), Y.flatten(), Z.flatten())).T\n",
    "uncertainty_values = np.ones((uncertainty_grids.shape[0], ))\n",
    "\n",
    "print (uncertainty_grids.shape)"
   ]
  },
  {
   "cell_type": "code",
   "execution_count": 15,
   "metadata": {},
   "outputs": [
    {
     "name": "stdout",
     "output_type": "stream",
     "text": [
      "Closest grid:  [1.75 1.75 3.75]\n",
      "Uncertainty value:  1.0\n"
     ]
    }
   ],
   "source": [
    "current_pos = [1.75, 2.0, 3.5]\n",
    "\n",
    "differences = current_pos-uncertainty_grids\n",
    "distances = np.sum(differences*differences,axis=1)\n",
    "min_ind = np.argmin(distances)\n",
    "print(\"Closest grid: \",uncertainty_grids[min_ind])\n",
    "print(\"Uncertainty value: \", uncertainty_values[min_ind])"
   ]
  },
  {
   "cell_type": "code",
   "execution_count": 73,
   "metadata": {},
   "outputs": [
    {
     "name": "stdout",
     "output_type": "stream",
     "text": [
      "Width:  164.0\n",
      "Conv2D out1:  80.0\n",
      "MaxPooling out2:  40.0\n",
      "Conv2D out3:  18.0\n",
      "MaxPooling out4:  6.0\n"
     ]
    },
    {
     "data": {
      "text/plain": [
       "6.0"
      ]
     },
     "execution_count": 73,
     "metadata": {},
     "output_type": "execute_result"
    }
   ],
   "source": [
    "W = np.sqrt(uncertainty_grids.shape[0])\n",
    "K, S, P, D = 7, 2, 1, 1\n",
    "K2, S, P2, D = 2, 2, 0, 1\n",
    "print (\"Width: \", W)\n",
    "out1 = np.floor((W + 2*P - D*(K - 1) - 1) / S + 1)\n",
    "print (\"Conv2D out1: \", out1)\n",
    "\n",
    "out2 = np.floor((out1 + 2*P2 - D*(K2 - 1) - 1) / S + 1)\n",
    "print (\"MaxPooling out2: \", out2)\n",
    "\n",
    "out3 = np.floor((out2 + 2*P - D*(K - 1) - 1) / S + 1)\n",
    "print (\"Conv2D out3: \", out3)\n",
    "\n",
    "out3 = np.floor((out2 + 2*P2 - D*(K2 - 1) - 1) / S + 1)\n",
    "print (\"MaxPooling out4: \", out4)\n",
    "\n",
    "out4"
   ]
  },
  {
   "cell_type": "code",
   "execution_count": 4,
   "metadata": {},
   "outputs": [
    {
     "data": {
      "text/plain": [
       "(26896, 3)"
      ]
     },
     "execution_count": 4,
     "metadata": {},
     "output_type": "execute_result"
    }
   ],
   "source": [
    "\n",
    "np.reshape()"
   ]
  },
  {
   "cell_type": "code",
   "execution_count": 6,
   "metadata": {},
   "outputs": [
    {
     "data": {
      "text/plain": [
       "array([[1., 1., 1., ..., 1., 1., 1.],\n",
       "       [1., 1., 1., ..., 1., 1., 1.],\n",
       "       [1., 1., 1., ..., 1., 1., 1.],\n",
       "       ...,\n",
       "       [1., 1., 1., ..., 1., 1., 1.],\n",
       "       [1., 1., 1., ..., 1., 1., 1.],\n",
       "       [1., 1., 1., ..., 1., 1., 1.]])"
      ]
     },
     "execution_count": 6,
     "metadata": {},
     "output_type": "execute_result"
    }
   ],
   "source": [
    "np.reshape(uncertainty_values, (164,164))"
   ]
  },
  {
   "cell_type": "code",
   "execution_count": null,
   "metadata": {},
   "outputs": [],
   "source": []
  },
  {
   "cell_type": "code",
   "execution_count": null,
   "metadata": {},
   "outputs": [],
   "source": []
  },
  {
   "cell_type": "code",
   "execution_count": null,
   "metadata": {},
   "outputs": [],
   "source": []
  },
  {
   "cell_type": "code",
   "execution_count": null,
   "metadata": {},
   "outputs": [],
   "source": []
  },
  {
   "cell_type": "code",
   "execution_count": null,
   "metadata": {},
   "outputs": [],
   "source": []
  },
  {
   "cell_type": "code",
   "execution_count": null,
   "metadata": {},
   "outputs": [],
   "source": []
  },
  {
   "cell_type": "code",
   "execution_count": null,
   "metadata": {},
   "outputs": [],
   "source": []
  },
  {
   "cell_type": "code",
   "execution_count": null,
   "metadata": {},
   "outputs": [],
   "source": []
  },
  {
   "cell_type": "code",
   "execution_count": null,
   "metadata": {},
   "outputs": [],
   "source": []
  }
 ],
 "metadata": {
  "kernelspec": {
   "display_name": "Python 3",
   "language": "python",
   "name": "python3"
  },
  "language_info": {
   "codemirror_mode": {
    "name": "ipython",
    "version": 3
   },
   "file_extension": ".py",
   "mimetype": "text/x-python",
   "name": "python",
   "nbconvert_exporter": "python",
   "pygments_lexer": "ipython3",
   "version": "3.7.4"
  }
 },
 "nbformat": 4,
 "nbformat_minor": 4
}
